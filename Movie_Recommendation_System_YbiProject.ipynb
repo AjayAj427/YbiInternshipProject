{
 "cells": [
  {
   "cell_type": "markdown",
   "id": "a42d00bb",
   "metadata": {},
   "source": [
    "# **Movie Recommendation System Using Python**"
   ]
  },
  {
   "cell_type": "markdown",
   "id": "33531e52",
   "metadata": {},
   "source": [
    "## **Objective**\n",
    "The objective of this project is to build a movie recommendation system that can suggest movies to users based on their preferences. This system will utilize both content-based filtering and collaborative filtering techniques to provide personalized movie recommendations."
   ]
  },
  {
   "cell_type": "markdown",
   "id": "60eb79cf",
   "metadata": {},
   "source": [
    "## **Data Source**\n",
    "- The [MovieLens dataset](https://grouplens.org/datasets/movielens/) is used in this project. It contains information about movies, users, and their ratings."
   ]
  },
  {
   "cell_type": "markdown",
   "id": "242896bb",
   "metadata": {},
   "source": [
    "## **Data Preprocessing**\n",
    "In this step, we will load the dataset, clean the data, and prepare it for analysis."
   ]
  },
  {
   "cell_type": "code",
   "execution_count": null,
   "id": "3017c803",
   "metadata": {},
   "outputs": [],
   "source": [
    "import pandas as pd\n",
    "\n",
    "# Load datasets\n",
    "movies = pd.read_csv('movies.csv')\n",
    "ratings = pd.read_csv('ratings.csv')\n",
    "\n",
    "# Inspect the datasets\n",
    "print(movies.head())\n",
    "print(ratings.head())\n",
    "\n",
    "# Check for missing values\n",
    "print(movies.isnull().sum())\n",
    "print(ratings.isnull().sum())\n",
    "\n",
    "# Fill missing values if any\n",
    "movies['genres'] = movies['genres'].fillna('')\n",
    "\n",
    "# Merge datasets\n",
    "data = pd.merge(ratings, movies, on='movieId')\n",
    "print(data.head())"
   ]
  },
  {
   "cell_type": "markdown",
   "id": "88b2a326",
   "metadata": {},
   "source": [
    "## **Exploratory Data Analysis (EDA)**\n",
    "We will explore the data to understand the distribution of ratings, the number of ratings per movie, and other relevant trends."
   ]
  },
  {
   "cell_type": "code",
   "execution_count": null,
   "id": "f7207e39",
   "metadata": {},
   "outputs": [],
   "source": [
    "import matplotlib.pyplot as plt\n",
    "import seaborn as sns\n",
    "\n",
    "# Distribution of ratings\n",
    "plt.figure(figsize=(10, 6))\n",
    "sns.histplot(data['rating'], bins=5, kde=False)\n",
    "plt.title('Distribution of Ratings')\n",
    "plt.xlabel('Rating')\n",
    "plt.ylabel('Count')\n",
    "plt.show()\n",
    "\n",
    "# Number of ratings per movie\n",
    "ratings_per_movie = data.groupby('title')['rating'].count().sort_values(ascending=False)\n",
    "print(ratings_per_movie.head(10))\n",
    "\n",
    "# Visualize the top 10 most rated movies\n",
    "plt.figure(figsize=(10, 6))\n",
    "sns.barplot(x=ratings_per_movie.values[:10], y=ratings_per_movie.index[:10], palette='viridis')\n",
    "plt.title('Top 10 Most Rated Movies')\n",
    "plt.xlabel('Number of Ratings')\n",
    "plt.show()"
   ]
  },
  {
   "cell_type": "markdown",
   "id": "33171097",
   "metadata": {},
   "source": [
    "## **Model Building: Content-Based Filtering**\n",
    "We will build a content-based recommendation system using movie genres."
   ]
  },
  {
   "cell_type": "code",
   "execution_count": null,
   "id": "063d2065",
   "metadata": {},
   "outputs": [],
   "source": [
    "from sklearn.feature_extraction.text import TfidfVectorizer\n",
    "from sklearn.metrics.pairwise import cosine_similarity\n",
    "\n",
    "# Vectorize the genres\n",
    "tfidf = TfidfVectorizer(stop_words='english')\n",
    "movies['genres'] = movies['genres'].fillna('')\n",
    "tfidf_matrix = tfidf.fit_transform(movies['genres'])\n",
    "\n",
    "# Compute the cosine similarity matrix\n",
    "cosine_sim = cosine_similarity(tfidf_matrix, tfidf_matrix)\n",
    "\n",
    "# Function to get recommendations\n",
    "def get_recommendations(title, cosine_sim=cosine_sim):\n",
    "    idx = movies.index[movies['title'] == title].tolist()[0]\n",
    "    sim_scores = list(enumerate(cosine_sim[idx]))\n",
    "    sim_scores = sorted(sim_scores, key=lambda x: x[1], reverse=True)\n",
    "    sim_scores = sim_scores[1:11]\n",
    "    movie_indices = [i[0] for i in sim_scores]\n",
    "    return movies['title'].iloc[movie_indices]\n",
    "\n",
    "# Example usage\n",
    "print(get_recommendations('Toy Story (1995)'))"
   ]
  },
  {
   "cell_type": "markdown",
   "id": "87dd152c",
   "metadata": {},
   "source": [
    "## **Model Building: Collaborative Filtering**\n",
    "We will build a collaborative filtering recommendation system using the `surprise` library."
   ]
  },
  {
   "cell_type": "code",
   "execution_count": null,
   "id": "28fb1ccf",
   "metadata": {},
   "outputs": [],
   "source": [
    "from surprise import Dataset, Reader, SVD\n",
    "from surprise.model_selection import train_test_split, cross_validate\n",
    "\n",
    "# Load dataset\n",
    "reader = Reader(rating_scale=(1, 5))\n",
    "data = Dataset.load_builtin('ml-100k')\n",
    "\n",
    "# Train/Test split\n",
    "trainset, testset = train_test_split(data, test_size=0.25)\n",
    "\n",
    "# Use SVD algorithm\n",
    "algo = SVD()\n",
    "algo.fit(trainset)\n",
    "\n",
    "# Predict ratings for the test set\n",
    "predictions = algo.test(testset)\n",
    "\n",
    "# Cross-validation\n",
    "cross_validate(algo, data, measures=['RMSE', 'MAE'], cv=5, verbose=True)"
   ]
  },
  {
   "cell_type": "markdown",
   "id": "31d46c41",
   "metadata": {},
   "source": [
    "## **Model Evaluation**\n",
    "We will evaluate the performance of our recommendation models using metrics such as RMSE, Precision, and Recall."
   ]
  },
  {
   "cell_type": "code",
   "execution_count": null,
   "id": "fd2a3dd9",
   "metadata": {},
   "outputs": [],
   "source": [
    "# Example of calculating RMSE (Root Mean Square Error)\n",
    "from surprise import accuracy\n",
    "rmse = accuracy.rmse(predictions)\n",
    "\n",
    "# Cross-validation results are already displayed above\n",
    "# No further code is needed for basic evaluation metrics\n"
   ]
  },
  {
   "cell_type": "markdown",
   "id": "f5be738a",
   "metadata": {},
   "source": [
    "## **Deployment**\n",
    "The recommendation system can be deployed using a web framework like Flask. This would allow users to input their movie preferences and receive personalized recommendations."
   ]
  },
  {
   "cell_type": "code",
   "execution_count": null,
   "id": "c45c3e66",
   "metadata": {},
   "outputs": [],
   "source": [
    "# Basic outline for a Flask application\n",
    "from flask import Flask, request, jsonify\n",
    "\n",
    "app = Flask(__name__)\n",
    "\n",
    "@app.route('/recommend', methods=['POST'])\n",
    "def recommend():\n",
    "    user_input = request.json['title']\n",
    "    recommendations = get_recommendations(user_input)\n",
    "    return jsonify(recommendations.tolist())\n",
    "\n",
    "if __name__ == '__main__':\n",
    "    app.run(debug=True)"
   ]
  },
  {
   "cell_type": "markdown",
   "id": "91113113",
   "metadata": {},
   "source": [
    "## **Conclusion**\n",
    "In this project, we successfully built a movie recommendation system using both content-based and collaborative filtering techniques. The system was evaluated using RMSE and cross-validation, and it can be further enhanced with a hybrid approach combining both methods."
   ]
  }
 ],
 "metadata": {},
 "nbformat": 4,
 "nbformat_minor": 5
}
